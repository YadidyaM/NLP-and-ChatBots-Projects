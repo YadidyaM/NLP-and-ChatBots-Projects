{
 "cells": [
  {
   "cell_type": "code",
   "execution_count": null,
   "metadata": {
    "execution": {
     "iopub.execute_input": "2024-10-31T23:12:31.241887Z",
     "iopub.status.busy": "2024-10-31T23:12:31.241488Z",
     "iopub.status.idle": "2024-10-31T23:12:34.020379Z",
     "shell.execute_reply": "2024-10-31T23:12:34.019302Z",
     "shell.execute_reply.started": "2024-10-31T23:12:31.241848Z"
    },
    "trusted": true
   },
   "outputs": [
    {
     "data": {
      "text/html": [
       "<div>\n",
       "<style scoped>\n",
       "    .dataframe tbody tr th:only-of-type {\n",
       "        vertical-align: middle;\n",
       "    }\n",
       "\n",
       "    .dataframe tbody tr th {\n",
       "        vertical-align: top;\n",
       "    }\n",
       "\n",
       "    .dataframe thead th {\n",
       "        text-align: right;\n",
       "    }\n",
       "</style>\n",
       "<table border=\"1\" class=\"dataframe\">\n",
       "  <thead>\n",
       "    <tr style=\"text-align: right;\">\n",
       "      <th></th>\n",
       "      <th>age</th>\n",
       "      <th>sex</th>\n",
       "      <th>bmi</th>\n",
       "      <th>children</th>\n",
       "      <th>smoker</th>\n",
       "      <th>region</th>\n",
       "      <th>charges</th>\n",
       "    </tr>\n",
       "  </thead>\n",
       "  <tbody>\n",
       "    <tr>\n",
       "      <th>0</th>\n",
       "      <td>19</td>\n",
       "      <td>female</td>\n",
       "      <td>27.900</td>\n",
       "      <td>0</td>\n",
       "      <td>yes</td>\n",
       "      <td>southwest</td>\n",
       "      <td>16884.92400</td>\n",
       "    </tr>\n",
       "    <tr>\n",
       "      <th>1</th>\n",
       "      <td>18</td>\n",
       "      <td>male</td>\n",
       "      <td>33.770</td>\n",
       "      <td>1</td>\n",
       "      <td>no</td>\n",
       "      <td>southeast</td>\n",
       "      <td>1725.55230</td>\n",
       "    </tr>\n",
       "    <tr>\n",
       "      <th>2</th>\n",
       "      <td>28</td>\n",
       "      <td>male</td>\n",
       "      <td>33.000</td>\n",
       "      <td>3</td>\n",
       "      <td>no</td>\n",
       "      <td>southeast</td>\n",
       "      <td>4449.46200</td>\n",
       "    </tr>\n",
       "    <tr>\n",
       "      <th>3</th>\n",
       "      <td>33</td>\n",
       "      <td>male</td>\n",
       "      <td>22.705</td>\n",
       "      <td>0</td>\n",
       "      <td>no</td>\n",
       "      <td>northwest</td>\n",
       "      <td>21984.47061</td>\n",
       "    </tr>\n",
       "    <tr>\n",
       "      <th>4</th>\n",
       "      <td>32</td>\n",
       "      <td>male</td>\n",
       "      <td>28.880</td>\n",
       "      <td>0</td>\n",
       "      <td>no</td>\n",
       "      <td>northwest</td>\n",
       "      <td>3866.85520</td>\n",
       "    </tr>\n",
       "  </tbody>\n",
       "</table>\n",
       "</div>"
      ],
      "text/plain": [
       "   age     sex     bmi  children smoker     region      charges\n",
       "0   19  female  27.900         0    yes  southwest  16884.92400\n",
       "1   18    male  33.770         1     no  southeast   1725.55230\n",
       "2   28    male  33.000         3     no  southeast   4449.46200\n",
       "3   33    male  22.705         0     no  northwest  21984.47061\n",
       "4   32    male  28.880         0     no  northwest   3866.85520"
      ]
     },
     "execution_count": 1,
     "metadata": {},
     "output_type": "execute_result"
    }
   ],
   "source": [
    "# importing required libraries\n",
    "import numpy as np\n",
    "import pandas as pd\n",
    "import matplotlib.pyplot as plt\n",
    "import seaborn as sns\n",
    "from scipy import stats\n",
    "\n",
    "# importing dataset\n",
    "df = pd.read_csv('content/input/insurance/insurance.csv')\n",
    "df.head()"
   ]
  },
  {
   "cell_type": "code",
   "execution_count": 2,
   "metadata": {
    "execution": {
     "iopub.execute_input": "2024-10-31T23:12:34.022594Z",
     "iopub.status.busy": "2024-10-31T23:12:34.022257Z",
     "iopub.status.idle": "2024-10-31T23:12:34.028699Z",
     "shell.execute_reply": "2024-10-31T23:12:34.027595Z",
     "shell.execute_reply.started": "2024-10-31T23:12:34.022559Z"
    },
    "trusted": true
   },
   "outputs": [],
   "source": [
    "\n",
    "# defining shapiro normality Test\n",
    "def shapiro_normality_test(x:pd.Series):\n",
    "    \"\"\"\n",
    "    Performs the Shapiro-Wilk Normality Test to check whether \n",
    "    the given data follows normal distribution of not.\n",
    "    \"\"\"\n",
    "    \n",
    "    statistic,p_value = stats.shapiro(x)\n",
    "    if p_value > 0.05:\n",
    "        print(\"The data is normally distributed\")\n",
    "    else:\n",
    "        print(\"The data is not normally distributed\")\n",
    "\n",
    "    print(f\"statistic={statistic.round(decimals=3)}\")\n",
    "    print(f\"p_value={p_value.round(decimals=3)}\")\n",
    "    "
   ]
  },
  {
   "cell_type": "code",
   "execution_count": 3,
   "metadata": {
    "execution": {
     "iopub.execute_input": "2024-10-31T23:12:34.031962Z",
     "iopub.status.busy": "2024-10-31T23:12:34.031634Z",
     "iopub.status.idle": "2024-10-31T23:12:34.065146Z",
     "shell.execute_reply": "2024-10-31T23:12:34.063846Z",
     "shell.execute_reply.started": "2024-10-31T23:12:34.031926Z"
    },
    "trusted": true
   },
   "outputs": [
    {
     "data": {
      "text/html": [
       "<div>\n",
       "<style scoped>\n",
       "    .dataframe tbody tr th:only-of-type {\n",
       "        vertical-align: middle;\n",
       "    }\n",
       "\n",
       "    .dataframe tbody tr th {\n",
       "        vertical-align: top;\n",
       "    }\n",
       "\n",
       "    .dataframe thead th {\n",
       "        text-align: right;\n",
       "    }\n",
       "</style>\n",
       "<table border=\"1\" class=\"dataframe\">\n",
       "  <thead>\n",
       "    <tr style=\"text-align: right;\">\n",
       "      <th></th>\n",
       "      <th>age</th>\n",
       "      <th>sex</th>\n",
       "      <th>bmi</th>\n",
       "      <th>children</th>\n",
       "      <th>smoker</th>\n",
       "      <th>region</th>\n",
       "      <th>charges</th>\n",
       "      <th>bmi_category</th>\n",
       "    </tr>\n",
       "  </thead>\n",
       "  <tbody>\n",
       "    <tr>\n",
       "      <th>0</th>\n",
       "      <td>19</td>\n",
       "      <td>female</td>\n",
       "      <td>27.900</td>\n",
       "      <td>0</td>\n",
       "      <td>yes</td>\n",
       "      <td>southwest</td>\n",
       "      <td>16884.92400</td>\n",
       "      <td>overweight</td>\n",
       "    </tr>\n",
       "    <tr>\n",
       "      <th>1</th>\n",
       "      <td>18</td>\n",
       "      <td>male</td>\n",
       "      <td>33.770</td>\n",
       "      <td>1</td>\n",
       "      <td>no</td>\n",
       "      <td>southeast</td>\n",
       "      <td>1725.55230</td>\n",
       "      <td>obesity</td>\n",
       "    </tr>\n",
       "    <tr>\n",
       "      <th>2</th>\n",
       "      <td>28</td>\n",
       "      <td>male</td>\n",
       "      <td>33.000</td>\n",
       "      <td>3</td>\n",
       "      <td>no</td>\n",
       "      <td>southeast</td>\n",
       "      <td>4449.46200</td>\n",
       "      <td>obesity</td>\n",
       "    </tr>\n",
       "    <tr>\n",
       "      <th>3</th>\n",
       "      <td>33</td>\n",
       "      <td>male</td>\n",
       "      <td>22.705</td>\n",
       "      <td>0</td>\n",
       "      <td>no</td>\n",
       "      <td>northwest</td>\n",
       "      <td>21984.47061</td>\n",
       "      <td>normal</td>\n",
       "    </tr>\n",
       "    <tr>\n",
       "      <th>4</th>\n",
       "      <td>32</td>\n",
       "      <td>male</td>\n",
       "      <td>28.880</td>\n",
       "      <td>0</td>\n",
       "      <td>no</td>\n",
       "      <td>northwest</td>\n",
       "      <td>3866.85520</td>\n",
       "      <td>overweight</td>\n",
       "    </tr>\n",
       "  </tbody>\n",
       "</table>\n",
       "</div>"
      ],
      "text/plain": [
       "   age     sex     bmi  children smoker     region      charges bmi_category\n",
       "0   19  female  27.900         0    yes  southwest  16884.92400   overweight\n",
       "1   18    male  33.770         1     no  southeast   1725.55230      obesity\n",
       "2   28    male  33.000         3     no  southeast   4449.46200      obesity\n",
       "3   33    male  22.705         0     no  northwest  21984.47061       normal\n",
       "4   32    male  28.880         0     no  northwest   3866.85520   overweight"
      ]
     },
     "execution_count": 3,
     "metadata": {},
     "output_type": "execute_result"
    }
   ],
   "source": [
    "# categorizing the bmi values as underweight,normal,overweight and obsesity.\n",
    "df.sort_values(by='bmi',ascending=True).reset_index(drop=True,inplace=True)\n",
    "\n",
    "conditions = [\n",
    "    (df['bmi']<18.5),                       #underweight\n",
    "    (df['bmi']>=18.5) & (df['bmi']<=25),    #normal\n",
    "    (df['bmi']>25) & (df['bmi']<=29.9),     #overweight \n",
    "    (df['bmi']>29.9)]                       #obesity \n",
    "\n",
    "categories = ['underweight','normal','overweight','obesity']\n",
    "\n",
    "df['bmi_category'] = np.select(conditions,categories,default='unknown')\n",
    "\n",
    "\n",
    "df.head()"
   ]
  },
  {
   "cell_type": "code",
   "execution_count": 4,
   "metadata": {
    "execution": {
     "iopub.execute_input": "2024-10-31T23:12:34.067912Z",
     "iopub.status.busy": "2024-10-31T23:12:34.067349Z",
     "iopub.status.idle": "2024-10-31T23:12:34.085402Z",
     "shell.execute_reply": "2024-10-31T23:12:34.084322Z",
     "shell.execute_reply.started": "2024-10-31T23:12:34.067872Z"
    },
    "trusted": true
   },
   "outputs": [
    {
     "data": {
      "text/html": [
       "<div>\n",
       "<style scoped>\n",
       "    .dataframe tbody tr th:only-of-type {\n",
       "        vertical-align: middle;\n",
       "    }\n",
       "\n",
       "    .dataframe tbody tr th {\n",
       "        vertical-align: top;\n",
       "    }\n",
       "\n",
       "    .dataframe thead th {\n",
       "        text-align: right;\n",
       "    }\n",
       "</style>\n",
       "<table border=\"1\" class=\"dataframe\">\n",
       "  <thead>\n",
       "    <tr style=\"text-align: right;\">\n",
       "      <th></th>\n",
       "      <th>bmi_category</th>\n",
       "      <th>count</th>\n",
       "    </tr>\n",
       "  </thead>\n",
       "  <tbody>\n",
       "    <tr>\n",
       "      <th>0</th>\n",
       "      <td>obesity</td>\n",
       "      <td>716</td>\n",
       "    </tr>\n",
       "    <tr>\n",
       "      <th>1</th>\n",
       "      <td>overweight</td>\n",
       "      <td>375</td>\n",
       "    </tr>\n",
       "    <tr>\n",
       "      <th>2</th>\n",
       "      <td>normal</td>\n",
       "      <td>227</td>\n",
       "    </tr>\n",
       "    <tr>\n",
       "      <th>3</th>\n",
       "      <td>underweight</td>\n",
       "      <td>20</td>\n",
       "    </tr>\n",
       "  </tbody>\n",
       "</table>\n",
       "</div>"
      ],
      "text/plain": [
       "  bmi_category  count\n",
       "0      obesity    716\n",
       "1   overweight    375\n",
       "2       normal    227\n",
       "3  underweight     20"
      ]
     },
     "execution_count": 4,
     "metadata": {},
     "output_type": "execute_result"
    }
   ],
   "source": [
    "df['bmi_category'].value_counts().to_frame().reset_index()"
   ]
  },
  {
   "cell_type": "code",
   "execution_count": 5,
   "metadata": {
    "execution": {
     "iopub.execute_input": "2024-10-31T23:12:34.086979Z",
     "iopub.status.busy": "2024-10-31T23:12:34.086651Z",
     "iopub.status.idle": "2024-10-31T23:12:34.377640Z",
     "shell.execute_reply": "2024-10-31T23:12:34.376594Z",
     "shell.execute_reply.started": "2024-10-31T23:12:34.086944Z"
    },
    "trusted": true
   },
   "outputs": [
    {
     "data": {
      "image/png": "[encoded data removed]",
      "text/plain": [
       "<Figure size 640x480 with 1 Axes>"
      ]
     },
     "metadata": {},
     "output_type": "display_data"
    }
   ],
   "source": [
    "import warnings\n",
    "warnings.filterwarnings(\"ignore\", category=FutureWarning)\n",
    "sns.countplot(x='bmi_category',data=df,palette=\"viridis\")\n",
    "plt.title('BMI Category Counts')\n",
    "plt.xlabel('BMI Category')\n",
    "plt.ylabel('Count') \n",
    "plt.show()\n"
   ]
  },
  {
   "cell_type": "code",
   "execution_count": 6,
   "metadata": {
    "execution": {
     "iopub.execute_input": "2024-10-31T23:12:34.379229Z",
     "iopub.status.busy": "2024-10-31T23:12:34.378848Z",
     "iopub.status.idle": "2024-10-31T23:12:34.403977Z",
     "shell.execute_reply": "2024-10-31T23:12:34.402685Z",
     "shell.execute_reply.started": "2024-10-31T23:12:34.379185Z"
    },
    "trusted": true
   },
   "outputs": [
    {
     "name": "stdout",
     "output_type": "stream",
     "text": [
      "The data is not normally distributed\n",
      "statistic=0.918\n",
      "p_value=0.0\n",
      "The data is not normally distributed\n",
      "statistic=0.899\n",
      "p_value=0.0\n",
      "The data is not normally distributed\n",
      "statistic=0.805\n",
      "p_value=0.0\n"
     ]
    }
   ],
   "source": [
    "# extracting medical charges for each bmi category\n",
    "\n",
    "normalweight_charges = df.query('bmi_category == \"normal\"')['charges']\n",
    "overweight_charges = df.query('bmi_category == \"overweight\"')['charges']\n",
    "obesity_charges = df.query('bmi_category == \"obesity\"')['charges']\n",
    "\n",
    "# shapiro normality test for normal charges\n",
    "shapiro_normality_test(normalweight_charges)\n",
    "# shapiro normality test for overweight charges\n",
    "shapiro_normality_test(overweight_charges)\n",
    "# shapiro normality test for obesity charges\n",
    "shapiro_normality_test(obesity_charges)    "
   ]
  },
  {
   "cell_type": "code",
   "execution_count": 7,
   "metadata": {
    "execution": {
     "iopub.execute_input": "2024-10-31T23:12:34.406261Z",
     "iopub.status.busy": "2024-10-31T23:12:34.405395Z",
     "iopub.status.idle": "2024-10-31T23:12:34.420494Z",
     "shell.execute_reply": "2024-10-31T23:12:34.419351Z",
     "shell.execute_reply.started": "2024-10-31T23:12:34.406222Z"
    },
    "trusted": true
   },
   "outputs": [],
   "source": [
    "\n",
    "def get_bootstrap_samples(data:pd.Series,n_resamples:int):\n",
    "    \"\"\"\n",
    "    Generates bootstrap samples for given dataset\n",
    "\n",
    "    Args:\n",
    "        data:pd.Series\n",
    "        n_resamples:int (total samples to generate)\n",
    "    Returns:\n",
    "        bootstrap_sample:numpy.ndarray\n",
    "    \"\"\"\n",
    "    bootstrap_samples = stats.bootstrap(data=(data,),\n",
    "                                        statistic=np.mean,\n",
    "                                        confidence_level=0.95, # 5% significance level\n",
    "                                        n_resamples=n_resamples,\n",
    "                                        axis=0).bootstrap_distribution\n",
    "    return bootstrap_samples"
   ]
  },
  {
   "cell_type": "code",
   "execution_count": 8,
   "metadata": {
    "execution": {
     "iopub.execute_input": "2024-10-31T23:12:34.422150Z",
     "iopub.status.busy": "2024-10-31T23:12:34.421768Z",
     "iopub.status.idle": "2024-10-31T23:12:35.349629Z",
     "shell.execute_reply": "2024-10-31T23:12:35.348262Z",
     "shell.execute_reply.started": "2024-10-31T23:12:34.422104Z"
    },
    "trusted": true
   },
   "outputs": [
    {
     "data": {
      "image/png": "[encoded data removed]",
      "text/plain": [
       "<Figure size 1200x600 with 1 Axes>"
      ]
     },
     "metadata": {},
     "output_type": "display_data"
    }
   ],
   "source": [
    "# get bootstrap samples for the charges based on bmi category\n",
    "normalweight_bootstrap_samples = get_bootstrap_samples(normalweight_charges,3000)\n",
    "\n",
    "overweight_bootstrap_samples = get_bootstrap_samples(overweight_charges,3000)\n",
    "\n",
    "obesity_bootstrap_samples = get_bootstrap_samples(obesity_charges,3000)\n",
    "\n",
    "\n",
    "# plot the histogram of the bootstrap samples\n",
    "plt.figure(figsize=(12,6))\n",
    "sns.histplot(normalweight_bootstrap_samples,bins=30,edgecolor='black',kde=True,label='normal weight')\n",
    "sns.histplot(overweight_bootstrap_samples,bins=30,edgecolor='black',kde=True,label='over weight')\n",
    "sns.histplot(obesity_bootstrap_samples,bins=30,edgecolor='black',kde=True,label='obesity')\n",
    "plt.legend()\n",
    "plt.title(\"Bootstrapped Samples for each BMI Category\")\n",
    "plt.show()\n"
   ]
  },
  {
   "cell_type": "code",
   "execution_count": 9,
   "metadata": {
    "execution": {
     "iopub.execute_input": "2024-10-31T23:12:35.351750Z",
     "iopub.status.busy": "2024-10-31T23:12:35.351299Z",
     "iopub.status.idle": "2024-10-31T23:12:35.360137Z",
     "shell.execute_reply": "2024-10-31T23:12:35.358833Z",
     "shell.execute_reply.started": "2024-10-31T23:12:35.351700Z"
    },
    "trusted": true
   },
   "outputs": [
    {
     "name": "stdout",
     "output_type": "stream",
     "text": [
      "The data is normally distributed\n",
      "statistic=1.0\n",
      "p_value=0.91\n",
      "The data is normally distributed\n",
      "statistic=0.999\n",
      "p_value=0.596\n",
      "The data is normally distributed\n",
      "statistic=0.999\n",
      "p_value=0.453\n"
     ]
    }
   ],
   "source": [
    "shapiro_normality_test(normalweight_bootstrap_samples)\n",
    "shapiro_normality_test(overweight_bootstrap_samples)\n",
    "shapiro_normality_test(obesity_bootstrap_samples)"
   ]
  },
  {
   "cell_type": "code",
   "execution_count": 10,
   "metadata": {
    "execution": {
     "iopub.execute_input": "2024-10-31T23:12:35.364129Z",
     "iopub.status.busy": "2024-10-31T23:12:35.363677Z",
     "iopub.status.idle": "2024-10-31T23:12:35.374796Z",
     "shell.execute_reply": "2024-10-31T23:12:35.373746Z",
     "shell.execute_reply.started": "2024-10-31T23:12:35.364092Z"
    },
    "trusted": true
   },
   "outputs": [],
   "source": [
    "# retrieving the population mean charges\n",
    "pop_mean = df['charges'].mean()\n",
    "\n",
    "# defining the function which performs T-Test\n",
    "def one_sample_t_test(sample: pd.Series, pop_mean: float) -> tuple:\n",
    "    \"\"\"\n",
    "    Performs a one-sample t-test to determine if there is a significant difference \n",
    "    between the population mean charges and the sample mean charges.\n",
    "\n",
    "    Args:\n",
    "        sample (pd.Series): A sample of data to compare to the population mean.\n",
    "        pop_mean (float): The population mean to compare the sample to.\n",
    "    \"\"\"\n",
    "    t_statistic, p_value = stats.ttest_1samp(sample, pop_mean)\n",
    "    t_statistic = round(t_statistic, 3)\n",
    "    p_value = round(p_value, 3)\n",
    "    print(f\"t_statistic={t_statistic}\")\n",
    "    print(f\"p_value={p_value}\")\n",
    "    print(f\"There is a {'no ' if p_value >= 0.05 else ''}significant difference \"\n",
    "          f\"between the population mean charges and the sample mean charges.\")\n"
   ]
  },
  {
   "cell_type": "code",
   "execution_count": 11,
   "metadata": {
    "execution": {
     "iopub.execute_input": "2024-10-31T23:12:35.377101Z",
     "iopub.status.busy": "2024-10-31T23:12:35.376607Z",
     "iopub.status.idle": "2024-10-31T23:12:35.390753Z",
     "shell.execute_reply": "2024-10-31T23:12:35.389509Z",
     "shell.execute_reply.started": "2024-10-31T23:12:35.377034Z"
    },
    "trusted": true
   },
   "outputs": [
    {
     "name": "stdout",
     "output_type": "stream",
     "text": [
      "t_statistic=-314.646\n",
      "p_value=0.0\n",
      "There is a significant difference between the population mean charges and the sample mean charges.\n"
     ]
    }
   ],
   "source": [
    "# one sample t-test for normal weight charges\n",
    "one_sample_t_test(normalweight_bootstrap_samples,                 # sample data\n",
    "                  pop_mean)                             # population mean\n"
   ]
  },
  {
   "cell_type": "code",
   "execution_count": 12,
   "metadata": {
    "execution": {
     "iopub.execute_input": "2024-10-31T23:12:35.392465Z",
     "iopub.status.busy": "2024-10-31T23:12:35.392021Z",
     "iopub.status.idle": "2024-10-31T23:12:35.401972Z",
     "shell.execute_reply": "2024-10-31T23:12:35.400454Z",
     "shell.execute_reply.started": "2024-10-31T23:12:35.392420Z"
    },
    "trusted": true
   },
   "outputs": [
    {
     "name": "stdout",
     "output_type": "stream",
     "text": [
      "t_statistic=-303.768\n",
      "p_value=0.0\n",
      "There is a significant difference between the population mean charges and the sample mean charges.\n"
     ]
    }
   ],
   "source": [
    "# one sample t-test for overweight charges\n",
    "one_sample_t_test(overweight_bootstrap_samples,pop_mean)\n"
   ]
  },
  {
   "cell_type": "code",
   "execution_count": 13,
   "metadata": {
    "execution": {
     "iopub.execute_input": "2024-10-31T23:12:35.403819Z",
     "iopub.status.busy": "2024-10-31T23:12:35.403461Z",
     "iopub.status.idle": "2024-10-31T23:12:35.415324Z",
     "shell.execute_reply": "2024-10-31T23:12:35.414003Z",
     "shell.execute_reply.started": "2024-10-31T23:12:35.403785Z"
    },
    "trusted": true
   },
   "outputs": [
    {
     "name": "stdout",
     "output_type": "stream",
     "text": [
      "t_statistic=224.026\n",
      "p_value=0.0\n",
      "There is a significant difference between the population mean charges and the sample mean charges.\n"
     ]
    }
   ],
   "source": [
    "# one sample t-test for obesity charges\n",
    "one_sample_t_test(obesity_bootstrap_samples,pop_mean)"
   ]
  },
  {
   "cell_type": "code",
   "execution_count": 14,
   "metadata": {
    "execution": {
     "iopub.execute_input": "2024-10-31T23:12:35.416947Z",
     "iopub.status.busy": "2024-10-31T23:12:35.416590Z",
     "iopub.status.idle": "2024-10-31T23:12:35.427602Z",
     "shell.execute_reply": "2024-10-31T23:12:35.426490Z",
     "shell.execute_reply.started": "2024-10-31T23:12:35.416910Z"
    },
    "trusted": true
   },
   "outputs": [
    {
     "name": "stdout",
     "output_type": "stream",
     "text": [
      "Levene's test statistic: 100.97717635954466\n",
      "Levene's test p-value: 0.0\n"
     ]
    }
   ],
   "source": [
    "# performing levene's test to check for equal variances\n",
    "from scipy.stats import levene\n",
    "\n",
    "statistic, p_value = levene(normalweight_bootstrap_samples, overweight_bootstrap_samples)\n",
    "\n",
    "print(\"Levene's test statistic:\", statistic)\n",
    "print(\"Levene's test p-value:\", p_value.round())"
   ]
  },
  {
   "cell_type": "code",
   "execution_count": 15,
   "metadata": {
    "execution": {
     "iopub.execute_input": "2024-10-31T23:12:35.429259Z",
     "iopub.status.busy": "2024-10-31T23:12:35.428890Z",
     "iopub.status.idle": "2024-10-31T23:12:35.439979Z",
     "shell.execute_reply": "2024-10-31T23:12:35.438921Z",
     "shell.execute_reply.started": "2024-10-31T23:12:35.429207Z"
    },
    "trusted": true
   },
   "outputs": [
    {
     "name": "stdout",
     "output_type": "stream",
     "text": [
      "t_statistic=-50.093\n",
      "p_value=0.0\n",
      "There is a significant difference between the mean charges of normal weight and overweight\n"
     ]
    }
   ],
   "source": [
    "t_statistic,p_value = stats.ttest_ind(normalweight_bootstrap_samples,\n",
    "                                      overweight_bootstrap_samples,\n",
    "                                      equal_var=False)\n",
    "\n",
    "\n",
    "print(f\"t_statistic={t_statistic.round(decimals=3)}\")\n",
    "print(f\"p_value={p_value.round(decimals=3)}\")\n",
    "if p_value < 0.05:\n",
    "    print(\"There is a significant difference between the mean charges of normal weight and overweight\")\n",
    "else:\n",
    "    print(\"There is no significant difference between the mean charges of normal weight and overweight\")\n",
    "    \n",
    "    "
   ]
  },
  {
   "cell_type": "code",
   "execution_count": 16,
   "metadata": {
    "execution": {
     "iopub.execute_input": "2024-10-31T23:12:35.441953Z",
     "iopub.status.busy": "2024-10-31T23:12:35.441513Z",
     "iopub.status.idle": "2024-10-31T23:12:35.738938Z",
     "shell.execute_reply": "2024-10-31T23:12:35.737693Z",
     "shell.execute_reply.started": "2024-10-31T23:12:35.441905Z"
    },
    "trusted": true
   },
   "outputs": [
    {
     "data": {
      "image/png": "[encoded data removed]",
      "text/plain": [
       "<Figure size 640x480 with 1 Axes>"
      ]
     },
     "metadata": {},
     "output_type": "display_data"
    }
   ],
   "source": [
    "# comparing the box plots\n",
    "sns.boxplot(data=[normalweight_bootstrap_samples,overweight_bootstrap_samples],\n",
    "            showfliers=True,\n",
    "            palette='viridis')\n",
    "plt.legend(labels=['Normal Weight','Overweight'])\n",
    "plt.title('Box Plot of Charges for Normal Weight and Overweight')\n",
    "plt.xlabel('BMI Category')\n",
    "plt.ylabel('Charges')\n",
    "plt.show()\n",
    "\n"
   ]
  },
  {
   "cell_type": "code",
   "execution_count": 17,
   "metadata": {
    "execution": {
     "iopub.execute_input": "2024-10-31T23:12:35.741269Z",
     "iopub.status.busy": "2024-10-31T23:12:35.740807Z",
     "iopub.status.idle": "2024-10-31T23:12:35.750374Z",
     "shell.execute_reply": "2024-10-31T23:12:35.749119Z",
     "shell.execute_reply.started": "2024-10-31T23:12:35.741219Z"
    },
    "trusted": true
   },
   "outputs": [
    {
     "name": "stdout",
     "output_type": "stream",
     "text": [
      "confidence interval=(-68.19223750472841, -31.994460319385944)\n"
     ]
    }
   ],
   "source": [
    "# creating confidence interval for the difference between the means of the two groups\n",
    "\n",
    "mean_diff = abs(normalweight_bootstrap_samples - overweight_bootstrap_samples)\n",
    "\n",
    "confidence_interval = stats.t.interval(confidence=0.95,\n",
    "                                       df=len(mean_diff)-1,\n",
    "                                       loc=t_statistic,\n",
    "                                       scale=stats.sem(mean_diff))\n",
    "print(f\"confidence interval={confidence_interval}\")"
   ]
  },
  {
   "cell_type": "code",
   "execution_count": 18,
   "metadata": {
    "execution": {
     "iopub.execute_input": "2024-10-31T23:12:35.752314Z",
     "iopub.status.busy": "2024-10-31T23:12:35.751876Z",
     "iopub.status.idle": "2024-10-31T23:12:35.762679Z",
     "shell.execute_reply": "2024-10-31T23:12:35.761409Z",
     "shell.execute_reply.started": "2024-10-31T23:12:35.752267Z"
    },
    "trusted": true
   },
   "outputs": [
    {
     "name": "stdout",
     "output_type": "stream",
     "text": [
      "Cohen's d: 1.2936203286390833\n"
     ]
    }
   ],
   "source": [
    "\n",
    "# Assuming you have the mean, standard deviation, and sample size for each group\n",
    "\n",
    "# calculating mean difference b/w normal and overweight bmi charges\n",
    "mean_difference = abs(np.mean(normalweight_bootstrap_samples) - np.mean(overweight_bootstrap_samples))\n",
    "\n",
    "# constructing pooled standard deviation\n",
    "pooled_sd = np.sqrt(((len(normalweight_bootstrap_samples) - 1) * np.var(normalweight_bootstrap_samples) + (len(overweight_bootstrap_samples) - 1) * np.var(overweight_bootstrap_samples)) / (len(normalweight_bootstrap_samples) + len(overweight_bootstrap_samples) - 2))\n",
    "\n",
    "# calculating cohens d\n",
    "cohens_d = mean_difference / pooled_sd\n",
    "\n",
    "print(\"Cohen's d:\", cohens_d)"
   ]
  },
  {
   "cell_type": "code",
   "execution_count": 19,
   "metadata": {
    "execution": {
     "iopub.execute_input": "2024-10-31T23:12:35.765091Z",
     "iopub.status.busy": "2024-10-31T23:12:35.764639Z",
     "iopub.status.idle": "2024-10-31T23:12:35.792110Z",
     "shell.execute_reply": "2024-10-31T23:12:35.790955Z",
     "shell.execute_reply.started": "2024-10-31T23:12:35.765035Z"
    },
    "trusted": true
   },
   "outputs": [
    {
     "name": "stdout",
     "output_type": "stream",
     "text": [
      "Required sample size per group: 7.171635310997955\n"
     ]
    }
   ],
   "source": [
    "from statsmodels.stats.power import tt_solve_power\n",
    "\n",
    "# Assuming you have the effect size, significance level, and desired power\n",
    "effect_size = 1.25  # Cohen's d\n",
    "alpha = 0.05        # Significance level\n",
    "power = 0.8         # Power\n",
    "\n",
    "# Calculate the required sample size for each group\n",
    "nobs = tt_solve_power(effect_size=effect_size, \n",
    "                      alpha=alpha,\n",
    "                      power=power,\n",
    "                      alternative='two-sided')\n",
    "\n",
    "print(\"Required sample size per group:\", nobs)"
   ]
  }
 ],
 "metadata": {
  "kaggle": {
   "accelerator": "none",
   "dataSources": [
    {
     "datasetId": 1012,
     "sourceId": 2343,
     "sourceType": "datasetVersion"
    },
    {
     "datasetId": 13720,
     "sourceId": 18513,
     "sourceType": "datasetVersion"
    },
    {
     "datasetId": 1507683,
     "sourceId": 2497017,
     "sourceType": "datasetVersion"
    },
    {
     "datasetId": 1860871,
     "sourceId": 3041917,
     "sourceType": "datasetVersion"
    },
    {
     "datasetId": 2838152,
     "sourceId": 4894355,
     "sourceType": "datasetVersion"
    },
    {
     "datasetId": 3102947,
     "sourceId": 5344155,
     "sourceType": "datasetVersion"
    },
    {
     "datasetId": 3643147,
     "sourceId": 6329552,
     "sourceType": "datasetVersion"
    },
    {
     "datasetId": 3852935,
     "sourceId": 6678394,
     "sourceType": "datasetVersion"
    },
    {
     "datasetId": 841565,
     "sourceId": 7639866,
     "sourceType": "datasetVersion"
    },
    {
     "datasetId": 4327413,
     "sourceId": 8949625,
     "sourceType": "datasetVersion"
    }
   ],
   "dockerImageVersionId": 30775,
   "isGpuEnabled": false,
   "isInternetEnabled": false,
   "language": "python",
   "sourceType": "notebook"
  },
  "kernelspec": {
   "display_name": "Python 3",
   "language": "python",
   "name": "python3"
  },
  "language_info": {
   "codemirror_mode": {
    "name": "ipython",
    "version": 3
   },
   "file_extension": ".py",
   "mimetype": "text/x-python",
   "name": "python",
   "nbconvert_exporter": "python",
   "pygments_lexer": "ipython3",
   "version": "3.10.14"
  }
 },
 "nbformat": 4,
 "nbformat_minor": 4
}
